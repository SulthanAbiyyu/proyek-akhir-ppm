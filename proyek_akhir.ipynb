{
 "cells": [
  {
   "cell_type": "code",
   "execution_count": 1,
   "metadata": {},
   "outputs": [
    {
     "name": "stdout",
     "output_type": "stream",
     "text": [
      "0\n"
     ]
    }
   ],
   "source": [
    "print(0)"
   ]
  },
  {
   "cell_type": "code",
   "execution_count": 62,
   "metadata": {},
   "outputs": [],
   "source": [
    "import pandas as pd\n",
    "import numpy as np\n",
    "import matplotlib.pyplot as plt\n",
    "import seaborn as sns\n",
    "from pathlib import Path\n",
    "from collections import Counter"
   ]
  },
  {
   "cell_type": "code",
   "execution_count": 88,
   "metadata": {},
   "outputs": [],
   "source": [
    "class Config:\n",
    "    DATA_PATH = Path(\"./data/imdb_indonesian_movies_2.csv\")\n",
    "    PICKLE_PATH =  Path(\"./pickle\")\n",
    "    FEATURES = [\"judul_film\", \"ringkasan_sinopsis\"]\n",
    "    LABEL = \"genre\"\n",
    "    \n",
    "class Metric:\n",
    "    def accuracy(self, y_true, y_pred):\n",
    "        accuracy = np.sum(y_true == y_pred) / len(y_true)\n",
    "        return accuracy\n",
    "    \n",
    "    def precision(self, y_true, y_pred):\n",
    "        tp = np.sum(y_true * y_pred)\n",
    "        fp = np.sum((1 - y_true) * y_pred)\n",
    "        return tp / (tp + fp)\n",
    "    \n",
    "    def recall(self, y_true, y_pred):\n",
    "        tp = np.sum(y_true * y_pred)\n",
    "        fn = np.sum(y_true * (1 - y_pred))\n",
    "        return tp / (tp + fn)\n",
    "    \n",
    "    def f1_score(self, y_true, y_pred):\n",
    "        precision = self.precision(y_true, y_pred)\n",
    "        recall = self.recall(y_true, y_pred)\n",
    "        return 2 * precision * recall / (precision + recall)\n",
    "    \n",
    "    def classification_metrics(self, y_true, y_pred):\n",
    "        accuracy = self.accuracy(y_true, y_pred)\n",
    "        precision = self.precision(y_true, y_pred)\n",
    "        recall = self.recall(y_true, y_pred)\n",
    "        f1_score = self.f1_score(y_true, y_pred)\n",
    "        return accuracy, precision, recall, f1_score\n",
    "\n",
    "\n",
    "class KFold:\n",
    "    def __init__(self, n_splits=5, shuffle=True):\n",
    "        self.n_splits = n_splits\n",
    "        self.shuffle = shuffle\n",
    "    \n",
    "    def split(self, X):\n",
    "        n = len(X)\n",
    "        idx = np.arange(n)\n",
    "        \n",
    "        if self.shuffle:\n",
    "            np.random.shuffle(idx)\n",
    "        \n",
    "        for i in range(self.n_splits):\n",
    "            start = i * n // self.n_splits\n",
    "            end = (i + 1) * n // self.n_splits\n",
    "            val_idx = idx[start:end]\n",
    "            train_idx = np.delete(idx, val_idx)\n",
    "            yield train_idx, val_idx\n",
    "\n",
    "class MKNNClassifier:\n",
    "    def __init__(self, k=5):\n",
    "        self.k = k\n",
    "\n",
    "    def fit(self, X, y):\n",
    "        self.X_train = X\n",
    "        self.y_train = y\n",
    "\n",
    "    def _euclidean_distance(self, x1, x2):\n",
    "        return np.sqrt(np.sum((x1 - x2) ** 2))\n",
    "\n",
    "    def _S(self, a, b):\n",
    "        return 1 if a == b else 0\n",
    "    \n",
    "    def _validity_score(self, i):\n",
    "        distances = np.array([self._euclidean_distance(self.X_train[i], x_train) for x_train in self.X_train])\n",
    "        k_indices = np.argsort(distances)[:self.k]\n",
    "        return 1 / self.k * np.sum([self._S(self.y_train[i], self.y_train[k]) for k in k_indices])\n",
    "        \n",
    "    def _predict(self, x_test):\n",
    "        distances = np.array([self._euclidean_distance(x_test, x_train) for x_train in self.X_train])\n",
    "        k_indices = np.argsort(distances)[:self.k]\n",
    "        validity_scores = [self._validity_score(i) for i in k_indices]\n",
    "        k_labels=  [self.y_train[i] for i in k_indices]\n",
    "\n",
    "        W = [\n",
    "            validity_scores[i] / (distances[k_indices[i]] + 0.0001) for i in range(len(k_indices))\n",
    "        ]\n",
    "\n",
    "        sum_w = Counter()\n",
    "        for i in range(len(k_indices)):\n",
    "            sum_w[k_labels[i]] += W[i]\n",
    "        \n",
    "        return sum_w.most_common(1)[0][0]\n",
    "        \n",
    "    def predict(self, X_test):\n",
    "        return np.array([self._predict(x_test) for x_test in X_test])\n",
    "    \n",
    "class Tfidfvectorizer:\n",
    "    def __init__(self, min_df=1):\n",
    "        self.min_df = min_df\n",
    "    \n",
    "    def preprocess(self, docs):\n",
    "        self.word_set = []\n",
    "        self.kalimats = []\n",
    "        \n",
    "        for kalimat in docs:\n",
    "            kalimat = [kata.lower() for kata in kalimat.split()]\n",
    "            self.kalimats.append(kalimat)\n",
    "            for kata in kalimat:\n",
    "                if kata not in self.word_set:\n",
    "                    self.word_set.append(kata)\n",
    "        \n",
    "        self.word_set = set(self.word_set)\n",
    "        self.n_docs = len(self.kalimats)\n",
    "        self.index_dict = {kata: i for i, kata in enumerate(self.word_set)}\n",
    "        \n",
    "        self.word_count = {}\n",
    "        for kata in self.word_set:\n",
    "            self.word_count[kata] = 0\n",
    "            for kalimat in self.kalimats:\n",
    "                if kata in kalimat:\n",
    "                    self.word_count[kata] += 1\n",
    "\n",
    "\n",
    "    def tf(self,docs, kata):\n",
    "        n = len(docs)\n",
    "        cocok = len([k for k in docs if k == kata])\n",
    "        return cocok / n\n",
    "    \n",
    "    def idf(self,kata):\n",
    "        try:\n",
    "            kata_cocok = self.word_count[kata] + 1\n",
    "        except:\n",
    "            kata_cocok = 1\n",
    "        \n",
    "        return np.log(self.n_docs / kata_cocok)\n",
    "    \n",
    "    def tf_idf(self, kalimat):\n",
    "        vec = np.zeros((len(self.word_set),))\n",
    "        for kata in kalimat:\n",
    "            tf = self.tf(kalimat, kata)\n",
    "            idf = self.idf(kata)\n",
    "            \n",
    "            vec[self.index_dict[kata]] = tf * idf\n",
    "        \n",
    "        return vec\n",
    "\n",
    "    def fit_transform(self, docs):\n",
    "        self.preprocess(docs)\n",
    "        vecs = []\n",
    "        for kalimat in self.kalimats:\n",
    "            vecs.append(self.tf_idf(kalimat))\n",
    "        \n",
    "        return np.array(vecs)"
   ]
  },
  {
   "cell_type": "code",
   "execution_count": 89,
   "metadata": {},
   "outputs": [
    {
     "data": {
      "text/html": [
       "<div>\n",
       "<style scoped>\n",
       "    .dataframe tbody tr th:only-of-type {\n",
       "        vertical-align: middle;\n",
       "    }\n",
       "\n",
       "    .dataframe tbody tr th {\n",
       "        vertical-align: top;\n",
       "    }\n",
       "\n",
       "    .dataframe thead th {\n",
       "        text-align: right;\n",
       "    }\n",
       "</style>\n",
       "<table border=\"1\" class=\"dataframe\">\n",
       "  <thead>\n",
       "    <tr style=\"text-align: right;\">\n",
       "      <th></th>\n",
       "      <th>judul_film</th>\n",
       "      <th>ringkasan_sinopsis</th>\n",
       "      <th>genre</th>\n",
       "    </tr>\n",
       "  </thead>\n",
       "  <tbody>\n",
       "    <tr>\n",
       "      <th>0</th>\n",
       "      <td>Sunan Kalijaga</td>\n",
       "      <td>Raden Mas Said putra sulung Tumenggung Wilarik...</td>\n",
       "      <td>Drama</td>\n",
       "    </tr>\n",
       "    <tr>\n",
       "      <th>1</th>\n",
       "      <td>Gie</td>\n",
       "      <td>Soe Hok Gie adalah seorang aktivis yang hidup ...</td>\n",
       "      <td>Drama</td>\n",
       "    </tr>\n",
       "    <tr>\n",
       "      <th>2</th>\n",
       "      <td>Guru Bangsa Tjokroaminoto</td>\n",
       "      <td>Guru Bangsa Tjokroaminoto menceritakan tentang...</td>\n",
       "      <td>Drama</td>\n",
       "    </tr>\n",
       "    <tr>\n",
       "      <th>3</th>\n",
       "      <td>POL Movie</td>\n",
       "      <td>POL menceritakan kisah hidup yang luar biasa d...</td>\n",
       "      <td>Drama</td>\n",
       "    </tr>\n",
       "    <tr>\n",
       "      <th>4</th>\n",
       "      <td>Sang pencerah</td>\n",
       "      <td>Perjalanan pahlawan Indonesia KH Ahmad Dahlan ...</td>\n",
       "      <td>Drama</td>\n",
       "    </tr>\n",
       "  </tbody>\n",
       "</table>\n",
       "</div>"
      ],
      "text/plain": [
       "                  judul_film  \\\n",
       "0             Sunan Kalijaga   \n",
       "1                        Gie   \n",
       "2  Guru Bangsa Tjokroaminoto   \n",
       "3                  POL Movie   \n",
       "4              Sang pencerah   \n",
       "\n",
       "                                  ringkasan_sinopsis  genre  \n",
       "0  Raden Mas Said putra sulung Tumenggung Wilarik...  Drama  \n",
       "1  Soe Hok Gie adalah seorang aktivis yang hidup ...  Drama  \n",
       "2  Guru Bangsa Tjokroaminoto menceritakan tentang...  Drama  \n",
       "3  POL menceritakan kisah hidup yang luar biasa d...  Drama  \n",
       "4  Perjalanan pahlawan Indonesia KH Ahmad Dahlan ...  Drama  "
      ]
     },
     "execution_count": 89,
     "metadata": {},
     "output_type": "execute_result"
    }
   ],
   "source": [
    "data = pd.read_csv(Config.DATA_PATH)\n",
    "data.head()"
   ]
  },
  {
   "cell_type": "code",
   "execution_count": 90,
   "metadata": {},
   "outputs": [
    {
     "name": "stdout",
     "output_type": "stream",
     "text": [
      "804 201\n"
     ]
    }
   ],
   "source": [
    "kf = KFold(n_splits=5)\n",
    "\n",
    "for train_idx, test_idx in kf.split(data[Config.FEATURES]):\n",
    "    print(len(train_idx), len(test_idx))\n",
    "    # print(data[Config.LABEL][train_idx].value_counts())\n",
    "    break"
   ]
  },
  {
   "cell_type": "code",
   "execution_count": 92,
   "metadata": {},
   "outputs": [],
   "source": [
    "t = Tfidfvectorizer()\n",
    "\n",
    "X = t.fit_transform(data[\"ringkasan_sinopsis\"])\n",
    "y = data[Config.LABEL]"
   ]
  },
  {
   "cell_type": "code",
   "execution_count": null,
   "metadata": {},
   "outputs": [],
   "source": [
    "kf = KFold(n_splits=5)\n",
    "metrics = Metric()\n",
    "\n",
    "for idx, (train_idx, test_idx) in enumerate(kf.split(X)):\n",
    "    X_train, X_test = X[train_idx], X[test_idx]\n",
    "    y_train, y_test = y[train_idx], y[test_idx]\n",
    "    \n",
    "    mkkn = MKNNClassifier(k=5)\n",
    "    mkkn.fit(X_train, y_train)\n",
    "    \n",
    "    y_pred = mkkn.predict(X_test)\n",
    "    f1_score = metrics.f1_score(y_test, y_pred)\n",
    "    \n",
    "    print(f\"fold {idx + 1} f1_score: {f1_score}\")\n",
    "    "
   ]
  },
  {
   "cell_type": "code",
   "execution_count": 120,
   "metadata": {},
   "outputs": [],
   "source": [
    "# sklearn tfidf\n",
    "\n",
    "from sklearn.feature_extraction.text import TfidfVectorizer\n",
    "\n",
    "t = TfidfVectorizer()\n",
    "\n",
    "X = t.fit_transform(data[\"ringkasan_sinopsis\"])\n",
    "\n",
    "X = np.array(X.todense())"
   ]
  },
  {
   "cell_type": "code",
   "execution_count": 122,
   "metadata": {},
   "outputs": [
    {
     "name": "stderr",
     "output_type": "stream",
     "text": [
      "C:\\Users\\Asus\\AppData\\Local\\Temp\\ipykernel_1632\\4151939391.py:80: RuntimeWarning: divide by zero encountered in double_scalars\n",
      "  validity_scores[i] / (distances[k_indices[i]]) for i in range(len(k_indices))\n"
     ]
    },
    {
     "ename": "KeyError",
     "evalue": "8",
     "output_type": "error",
     "traceback": [
      "\u001b[1;31m---------------------------------------------------------------------------\u001b[0m",
      "\u001b[1;31mKeyError\u001b[0m                                  Traceback (most recent call last)",
      "File \u001b[1;32mE:\\Users\\Asus\\AppData\\Roaming\\Python\\Python38\\site-packages\\pandas\\core\\indexes\\base.py:3361\u001b[0m, in \u001b[0;36mIndex.get_loc\u001b[1;34m(self, key, method, tolerance)\u001b[0m\n\u001b[0;32m   3360\u001b[0m \u001b[39mtry\u001b[39;00m:\n\u001b[1;32m-> 3361\u001b[0m     \u001b[39mreturn\u001b[39;00m \u001b[39mself\u001b[39;49m\u001b[39m.\u001b[39;49m_engine\u001b[39m.\u001b[39;49mget_loc(casted_key)\n\u001b[0;32m   3362\u001b[0m \u001b[39mexcept\u001b[39;00m \u001b[39mKeyError\u001b[39;00m \u001b[39mas\u001b[39;00m err:\n",
      "File \u001b[1;32mE:\\Users\\Asus\\AppData\\Roaming\\Python\\Python38\\site-packages\\pandas\\_libs\\index.pyx:76\u001b[0m, in \u001b[0;36mpandas._libs.index.IndexEngine.get_loc\u001b[1;34m()\u001b[0m\n",
      "File \u001b[1;32mE:\\Users\\Asus\\AppData\\Roaming\\Python\\Python38\\site-packages\\pandas\\_libs\\index.pyx:108\u001b[0m, in \u001b[0;36mpandas._libs.index.IndexEngine.get_loc\u001b[1;34m()\u001b[0m\n",
      "File \u001b[1;32mpandas\\_libs\\hashtable_class_helper.pxi:2131\u001b[0m, in \u001b[0;36mpandas._libs.hashtable.Int64HashTable.get_item\u001b[1;34m()\u001b[0m\n",
      "File \u001b[1;32mpandas\\_libs\\hashtable_class_helper.pxi:2140\u001b[0m, in \u001b[0;36mpandas._libs.hashtable.Int64HashTable.get_item\u001b[1;34m()\u001b[0m\n",
      "\u001b[1;31mKeyError\u001b[0m: 8",
      "\nThe above exception was the direct cause of the following exception:\n",
      "\u001b[1;31mKeyError\u001b[0m                                  Traceback (most recent call last)",
      "\u001b[1;32md:\\Code (Laptop)\\Kuliah\\Semester 4\\PPM\\proyek-akhir-ppm\\proyek_akhir.ipynb Cell 9\u001b[0m in \u001b[0;36m<module>\u001b[1;34m\u001b[0m\n\u001b[0;32m      <a href='vscode-notebook-cell:/d%3A/Code%20%28Laptop%29/Kuliah/Semester%204/PPM/proyek-akhir-ppm/proyek_akhir.ipynb#X25sZmlsZQ%3D%3D?line=0'>1</a>\u001b[0m mknn \u001b[39m=\u001b[39m MKNNClassifier(k\u001b[39m=\u001b[39m\u001b[39m5\u001b[39m)\n\u001b[0;32m      <a href='vscode-notebook-cell:/d%3A/Code%20%28Laptop%29/Kuliah/Semester%204/PPM/proyek-akhir-ppm/proyek_akhir.ipynb#X25sZmlsZQ%3D%3D?line=1'>2</a>\u001b[0m mknn\u001b[39m.\u001b[39mfit(pd\u001b[39m.\u001b[39mDataFrame(X[train_idx]), y_train)\n\u001b[1;32m----> <a href='vscode-notebook-cell:/d%3A/Code%20%28Laptop%29/Kuliah/Semester%204/PPM/proyek-akhir-ppm/proyek_akhir.ipynb#X25sZmlsZQ%3D%3D?line=3'>4</a>\u001b[0m y_pred \u001b[39m=\u001b[39m mknn\u001b[39m.\u001b[39;49mpredict(pd\u001b[39m.\u001b[39;49mDataFrame(X[test_idx][:\u001b[39m5\u001b[39;49m]))\n",
      "\u001b[1;32md:\\Code (Laptop)\\Kuliah\\Semester 4\\PPM\\proyek-akhir-ppm\\proyek_akhir.ipynb Cell 9\u001b[0m in \u001b[0;36mMKNNClassifier.predict\u001b[1;34m(self, X_test)\u001b[0m\n\u001b[0;32m     <a href='vscode-notebook-cell:/d%3A/Code%20%28Laptop%29/Kuliah/Semester%204/PPM/proyek-akhir-ppm/proyek_akhir.ipynb#X25sZmlsZQ%3D%3D?line=88'>89</a>\u001b[0m \u001b[39mdef\u001b[39;00m \u001b[39mpredict\u001b[39m(\u001b[39mself\u001b[39m, X_test):\n\u001b[1;32m---> <a href='vscode-notebook-cell:/d%3A/Code%20%28Laptop%29/Kuliah/Semester%204/PPM/proyek-akhir-ppm/proyek_akhir.ipynb#X25sZmlsZQ%3D%3D?line=89'>90</a>\u001b[0m     \u001b[39mreturn\u001b[39;00m np\u001b[39m.\u001b[39marray([\u001b[39mself\u001b[39m\u001b[39m.\u001b[39m_predict(x_test) \u001b[39mfor\u001b[39;00m x_test \u001b[39min\u001b[39;00m X_test])\n",
      "\u001b[1;32md:\\Code (Laptop)\\Kuliah\\Semester 4\\PPM\\proyek-akhir-ppm\\proyek_akhir.ipynb Cell 9\u001b[0m in \u001b[0;36m<listcomp>\u001b[1;34m(.0)\u001b[0m\n\u001b[0;32m     <a href='vscode-notebook-cell:/d%3A/Code%20%28Laptop%29/Kuliah/Semester%204/PPM/proyek-akhir-ppm/proyek_akhir.ipynb#X25sZmlsZQ%3D%3D?line=88'>89</a>\u001b[0m \u001b[39mdef\u001b[39;00m \u001b[39mpredict\u001b[39m(\u001b[39mself\u001b[39m, X_test):\n\u001b[1;32m---> <a href='vscode-notebook-cell:/d%3A/Code%20%28Laptop%29/Kuliah/Semester%204/PPM/proyek-akhir-ppm/proyek_akhir.ipynb#X25sZmlsZQ%3D%3D?line=89'>90</a>\u001b[0m     \u001b[39mreturn\u001b[39;00m np\u001b[39m.\u001b[39marray([\u001b[39mself\u001b[39;49m\u001b[39m.\u001b[39;49m_predict(x_test) \u001b[39mfor\u001b[39;00m x_test \u001b[39min\u001b[39;00m X_test])\n",
      "\u001b[1;32md:\\Code (Laptop)\\Kuliah\\Semester 4\\PPM\\proyek-akhir-ppm\\proyek_akhir.ipynb Cell 9\u001b[0m in \u001b[0;36mMKNNClassifier._predict\u001b[1;34m(self, x_test)\u001b[0m\n\u001b[0;32m     <a href='vscode-notebook-cell:/d%3A/Code%20%28Laptop%29/Kuliah/Semester%204/PPM/proyek-akhir-ppm/proyek_akhir.ipynb#X25sZmlsZQ%3D%3D?line=73'>74</a>\u001b[0m distances \u001b[39m=\u001b[39m np\u001b[39m.\u001b[39marray([\u001b[39mself\u001b[39m\u001b[39m.\u001b[39m_euclidean_distance(x_test, x_train) \u001b[39mfor\u001b[39;00m x_train \u001b[39min\u001b[39;00m \u001b[39mself\u001b[39m\u001b[39m.\u001b[39mX_train])\n\u001b[0;32m     <a href='vscode-notebook-cell:/d%3A/Code%20%28Laptop%29/Kuliah/Semester%204/PPM/proyek-akhir-ppm/proyek_akhir.ipynb#X25sZmlsZQ%3D%3D?line=74'>75</a>\u001b[0m k_indices \u001b[39m=\u001b[39m np\u001b[39m.\u001b[39margsort(distances)[:\u001b[39mself\u001b[39m\u001b[39m.\u001b[39mk]\n\u001b[1;32m---> <a href='vscode-notebook-cell:/d%3A/Code%20%28Laptop%29/Kuliah/Semester%204/PPM/proyek-akhir-ppm/proyek_akhir.ipynb#X25sZmlsZQ%3D%3D?line=75'>76</a>\u001b[0m validity_scores \u001b[39m=\u001b[39m [\u001b[39mself\u001b[39m\u001b[39m.\u001b[39m_validity_score(i) \u001b[39mfor\u001b[39;00m i \u001b[39min\u001b[39;00m k_indices]\n\u001b[0;32m     <a href='vscode-notebook-cell:/d%3A/Code%20%28Laptop%29/Kuliah/Semester%204/PPM/proyek-akhir-ppm/proyek_akhir.ipynb#X25sZmlsZQ%3D%3D?line=76'>77</a>\u001b[0m k_labels\u001b[39m=\u001b[39m  [\u001b[39mself\u001b[39m\u001b[39m.\u001b[39my_train[i] \u001b[39mfor\u001b[39;00m i \u001b[39min\u001b[39;00m k_indices]\n\u001b[0;32m     <a href='vscode-notebook-cell:/d%3A/Code%20%28Laptop%29/Kuliah/Semester%204/PPM/proyek-akhir-ppm/proyek_akhir.ipynb#X25sZmlsZQ%3D%3D?line=78'>79</a>\u001b[0m W \u001b[39m=\u001b[39m [\n\u001b[0;32m     <a href='vscode-notebook-cell:/d%3A/Code%20%28Laptop%29/Kuliah/Semester%204/PPM/proyek-akhir-ppm/proyek_akhir.ipynb#X25sZmlsZQ%3D%3D?line=79'>80</a>\u001b[0m     validity_scores[i] \u001b[39m/\u001b[39m (distances[k_indices[i]]) \u001b[39mfor\u001b[39;00m i \u001b[39min\u001b[39;00m \u001b[39mrange\u001b[39m(\u001b[39mlen\u001b[39m(k_indices))\n\u001b[0;32m     <a href='vscode-notebook-cell:/d%3A/Code%20%28Laptop%29/Kuliah/Semester%204/PPM/proyek-akhir-ppm/proyek_akhir.ipynb#X25sZmlsZQ%3D%3D?line=80'>81</a>\u001b[0m ]\n",
      "\u001b[1;32md:\\Code (Laptop)\\Kuliah\\Semester 4\\PPM\\proyek-akhir-ppm\\proyek_akhir.ipynb Cell 9\u001b[0m in \u001b[0;36m<listcomp>\u001b[1;34m(.0)\u001b[0m\n\u001b[0;32m     <a href='vscode-notebook-cell:/d%3A/Code%20%28Laptop%29/Kuliah/Semester%204/PPM/proyek-akhir-ppm/proyek_akhir.ipynb#X25sZmlsZQ%3D%3D?line=73'>74</a>\u001b[0m distances \u001b[39m=\u001b[39m np\u001b[39m.\u001b[39marray([\u001b[39mself\u001b[39m\u001b[39m.\u001b[39m_euclidean_distance(x_test, x_train) \u001b[39mfor\u001b[39;00m x_train \u001b[39min\u001b[39;00m \u001b[39mself\u001b[39m\u001b[39m.\u001b[39mX_train])\n\u001b[0;32m     <a href='vscode-notebook-cell:/d%3A/Code%20%28Laptop%29/Kuliah/Semester%204/PPM/proyek-akhir-ppm/proyek_akhir.ipynb#X25sZmlsZQ%3D%3D?line=74'>75</a>\u001b[0m k_indices \u001b[39m=\u001b[39m np\u001b[39m.\u001b[39margsort(distances)[:\u001b[39mself\u001b[39m\u001b[39m.\u001b[39mk]\n\u001b[1;32m---> <a href='vscode-notebook-cell:/d%3A/Code%20%28Laptop%29/Kuliah/Semester%204/PPM/proyek-akhir-ppm/proyek_akhir.ipynb#X25sZmlsZQ%3D%3D?line=75'>76</a>\u001b[0m validity_scores \u001b[39m=\u001b[39m [\u001b[39mself\u001b[39;49m\u001b[39m.\u001b[39;49m_validity_score(i) \u001b[39mfor\u001b[39;00m i \u001b[39min\u001b[39;00m k_indices]\n\u001b[0;32m     <a href='vscode-notebook-cell:/d%3A/Code%20%28Laptop%29/Kuliah/Semester%204/PPM/proyek-akhir-ppm/proyek_akhir.ipynb#X25sZmlsZQ%3D%3D?line=76'>77</a>\u001b[0m k_labels\u001b[39m=\u001b[39m  [\u001b[39mself\u001b[39m\u001b[39m.\u001b[39my_train[i] \u001b[39mfor\u001b[39;00m i \u001b[39min\u001b[39;00m k_indices]\n\u001b[0;32m     <a href='vscode-notebook-cell:/d%3A/Code%20%28Laptop%29/Kuliah/Semester%204/PPM/proyek-akhir-ppm/proyek_akhir.ipynb#X25sZmlsZQ%3D%3D?line=78'>79</a>\u001b[0m W \u001b[39m=\u001b[39m [\n\u001b[0;32m     <a href='vscode-notebook-cell:/d%3A/Code%20%28Laptop%29/Kuliah/Semester%204/PPM/proyek-akhir-ppm/proyek_akhir.ipynb#X25sZmlsZQ%3D%3D?line=79'>80</a>\u001b[0m     validity_scores[i] \u001b[39m/\u001b[39m (distances[k_indices[i]]) \u001b[39mfor\u001b[39;00m i \u001b[39min\u001b[39;00m \u001b[39mrange\u001b[39m(\u001b[39mlen\u001b[39m(k_indices))\n\u001b[0;32m     <a href='vscode-notebook-cell:/d%3A/Code%20%28Laptop%29/Kuliah/Semester%204/PPM/proyek-akhir-ppm/proyek_akhir.ipynb#X25sZmlsZQ%3D%3D?line=80'>81</a>\u001b[0m ]\n",
      "\u001b[1;32md:\\Code (Laptop)\\Kuliah\\Semester 4\\PPM\\proyek-akhir-ppm\\proyek_akhir.ipynb Cell 9\u001b[0m in \u001b[0;36mMKNNClassifier._validity_score\u001b[1;34m(self, i)\u001b[0m\n\u001b[0;32m     <a href='vscode-notebook-cell:/d%3A/Code%20%28Laptop%29/Kuliah/Semester%204/PPM/proyek-akhir-ppm/proyek_akhir.ipynb#X25sZmlsZQ%3D%3D?line=68'>69</a>\u001b[0m distances \u001b[39m=\u001b[39m np\u001b[39m.\u001b[39marray([\u001b[39mself\u001b[39m\u001b[39m.\u001b[39m_euclidean_distance(\u001b[39mself\u001b[39m\u001b[39m.\u001b[39mX_train[i], x_train) \u001b[39mfor\u001b[39;00m x_train \u001b[39min\u001b[39;00m \u001b[39mself\u001b[39m\u001b[39m.\u001b[39mX_train])\n\u001b[0;32m     <a href='vscode-notebook-cell:/d%3A/Code%20%28Laptop%29/Kuliah/Semester%204/PPM/proyek-akhir-ppm/proyek_akhir.ipynb#X25sZmlsZQ%3D%3D?line=69'>70</a>\u001b[0m k_indices \u001b[39m=\u001b[39m np\u001b[39m.\u001b[39margsort(distances)[:\u001b[39mself\u001b[39m\u001b[39m.\u001b[39mk]\n\u001b[1;32m---> <a href='vscode-notebook-cell:/d%3A/Code%20%28Laptop%29/Kuliah/Semester%204/PPM/proyek-akhir-ppm/proyek_akhir.ipynb#X25sZmlsZQ%3D%3D?line=70'>71</a>\u001b[0m \u001b[39mreturn\u001b[39;00m \u001b[39m1\u001b[39m \u001b[39m/\u001b[39m \u001b[39mself\u001b[39m\u001b[39m.\u001b[39mk \u001b[39m*\u001b[39m np\u001b[39m.\u001b[39msum([\u001b[39mself\u001b[39m\u001b[39m.\u001b[39m_S(\u001b[39mself\u001b[39m\u001b[39m.\u001b[39my_train[i], \u001b[39mself\u001b[39m\u001b[39m.\u001b[39my_train[k]) \u001b[39mfor\u001b[39;00m k \u001b[39min\u001b[39;00m k_indices])\n",
      "\u001b[1;32md:\\Code (Laptop)\\Kuliah\\Semester 4\\PPM\\proyek-akhir-ppm\\proyek_akhir.ipynb Cell 9\u001b[0m in \u001b[0;36m<listcomp>\u001b[1;34m(.0)\u001b[0m\n\u001b[0;32m     <a href='vscode-notebook-cell:/d%3A/Code%20%28Laptop%29/Kuliah/Semester%204/PPM/proyek-akhir-ppm/proyek_akhir.ipynb#X25sZmlsZQ%3D%3D?line=68'>69</a>\u001b[0m distances \u001b[39m=\u001b[39m np\u001b[39m.\u001b[39marray([\u001b[39mself\u001b[39m\u001b[39m.\u001b[39m_euclidean_distance(\u001b[39mself\u001b[39m\u001b[39m.\u001b[39mX_train[i], x_train) \u001b[39mfor\u001b[39;00m x_train \u001b[39min\u001b[39;00m \u001b[39mself\u001b[39m\u001b[39m.\u001b[39mX_train])\n\u001b[0;32m     <a href='vscode-notebook-cell:/d%3A/Code%20%28Laptop%29/Kuliah/Semester%204/PPM/proyek-akhir-ppm/proyek_akhir.ipynb#X25sZmlsZQ%3D%3D?line=69'>70</a>\u001b[0m k_indices \u001b[39m=\u001b[39m np\u001b[39m.\u001b[39margsort(distances)[:\u001b[39mself\u001b[39m\u001b[39m.\u001b[39mk]\n\u001b[1;32m---> <a href='vscode-notebook-cell:/d%3A/Code%20%28Laptop%29/Kuliah/Semester%204/PPM/proyek-akhir-ppm/proyek_akhir.ipynb#X25sZmlsZQ%3D%3D?line=70'>71</a>\u001b[0m \u001b[39mreturn\u001b[39;00m \u001b[39m1\u001b[39m \u001b[39m/\u001b[39m \u001b[39mself\u001b[39m\u001b[39m.\u001b[39mk \u001b[39m*\u001b[39m np\u001b[39m.\u001b[39msum([\u001b[39mself\u001b[39m\u001b[39m.\u001b[39m_S(\u001b[39mself\u001b[39;49m\u001b[39m.\u001b[39;49my_train[i], \u001b[39mself\u001b[39m\u001b[39m.\u001b[39my_train[k]) \u001b[39mfor\u001b[39;00m k \u001b[39min\u001b[39;00m k_indices])\n",
      "File \u001b[1;32mE:\\Users\\Asus\\AppData\\Roaming\\Python\\Python38\\site-packages\\pandas\\core\\series.py:942\u001b[0m, in \u001b[0;36mSeries.__getitem__\u001b[1;34m(self, key)\u001b[0m\n\u001b[0;32m    939\u001b[0m     \u001b[39mreturn\u001b[39;00m \u001b[39mself\u001b[39m\u001b[39m.\u001b[39m_values[key]\n\u001b[0;32m    941\u001b[0m \u001b[39melif\u001b[39;00m key_is_scalar:\n\u001b[1;32m--> 942\u001b[0m     \u001b[39mreturn\u001b[39;00m \u001b[39mself\u001b[39;49m\u001b[39m.\u001b[39;49m_get_value(key)\n\u001b[0;32m    944\u001b[0m \u001b[39mif\u001b[39;00m is_hashable(key):\n\u001b[0;32m    945\u001b[0m     \u001b[39m# Otherwise index.get_value will raise InvalidIndexError\u001b[39;00m\n\u001b[0;32m    946\u001b[0m     \u001b[39mtry\u001b[39;00m:\n\u001b[0;32m    947\u001b[0m         \u001b[39m# For labels that don't resolve as scalars like tuples and frozensets\u001b[39;00m\n",
      "File \u001b[1;32mE:\\Users\\Asus\\AppData\\Roaming\\Python\\Python38\\site-packages\\pandas\\core\\series.py:1051\u001b[0m, in \u001b[0;36mSeries._get_value\u001b[1;34m(self, label, takeable)\u001b[0m\n\u001b[0;32m   1048\u001b[0m     \u001b[39mreturn\u001b[39;00m \u001b[39mself\u001b[39m\u001b[39m.\u001b[39m_values[label]\n\u001b[0;32m   1050\u001b[0m \u001b[39m# Similar to Index.get_value, but we do not fall back to positional\u001b[39;00m\n\u001b[1;32m-> 1051\u001b[0m loc \u001b[39m=\u001b[39m \u001b[39mself\u001b[39;49m\u001b[39m.\u001b[39;49mindex\u001b[39m.\u001b[39;49mget_loc(label)\n\u001b[0;32m   1052\u001b[0m \u001b[39mreturn\u001b[39;00m \u001b[39mself\u001b[39m\u001b[39m.\u001b[39mindex\u001b[39m.\u001b[39m_get_values_for_loc(\u001b[39mself\u001b[39m, loc, label)\n",
      "File \u001b[1;32mE:\\Users\\Asus\\AppData\\Roaming\\Python\\Python38\\site-packages\\pandas\\core\\indexes\\base.py:3363\u001b[0m, in \u001b[0;36mIndex.get_loc\u001b[1;34m(self, key, method, tolerance)\u001b[0m\n\u001b[0;32m   3361\u001b[0m         \u001b[39mreturn\u001b[39;00m \u001b[39mself\u001b[39m\u001b[39m.\u001b[39m_engine\u001b[39m.\u001b[39mget_loc(casted_key)\n\u001b[0;32m   3362\u001b[0m     \u001b[39mexcept\u001b[39;00m \u001b[39mKeyError\u001b[39;00m \u001b[39mas\u001b[39;00m err:\n\u001b[1;32m-> 3363\u001b[0m         \u001b[39mraise\u001b[39;00m \u001b[39mKeyError\u001b[39;00m(key) \u001b[39mfrom\u001b[39;00m \u001b[39merr\u001b[39;00m\n\u001b[0;32m   3365\u001b[0m \u001b[39mif\u001b[39;00m is_scalar(key) \u001b[39mand\u001b[39;00m isna(key) \u001b[39mand\u001b[39;00m \u001b[39mnot\u001b[39;00m \u001b[39mself\u001b[39m\u001b[39m.\u001b[39mhasnans:\n\u001b[0;32m   3366\u001b[0m     \u001b[39mraise\u001b[39;00m \u001b[39mKeyError\u001b[39;00m(key)\n",
      "\u001b[1;31mKeyError\u001b[0m: 8"
     ]
    }
   ],
   "source": [
    "mknn = MKNNClassifier(k=5)\n",
    "mknn.fit(pd.DataFrame(X[train_idx]), y_train)\n",
    "\n",
    "y_pred = mknn.predict(pd.DataFrame(X[test_idx][:5]))\n",
    "# f1_score = metrics.f1_score(y_test, y_pred)"
   ]
  },
  {
   "cell_type": "code",
   "execution_count": null,
   "metadata": {},
   "outputs": [],
   "source": [
    "f1_score = metrics.f1_score(y_test, y_pred)\n",
    "f1_score"
   ]
  },
  {
   "cell_type": "code",
   "execution_count": null,
   "metadata": {},
   "outputs": [],
   "source": []
  }
 ],
 "metadata": {
  "kernelspec": {
   "display_name": "Python 3.8.12 ('DataScience')",
   "language": "python",
   "name": "python3"
  },
  "language_info": {
   "codemirror_mode": {
    "name": "ipython",
    "version": 3
   },
   "file_extension": ".py",
   "mimetype": "text/x-python",
   "name": "python",
   "nbconvert_exporter": "python",
   "pygments_lexer": "ipython3",
   "version": "3.8.12"
  },
  "orig_nbformat": 4,
  "vscode": {
   "interpreter": {
    "hash": "4bad0270b6e2e88c970a45ff63675ce57c4928b866733da83e94b5f82553bcb5"
   }
  }
 },
 "nbformat": 4,
 "nbformat_minor": 2
}
